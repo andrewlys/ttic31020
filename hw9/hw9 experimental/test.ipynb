{
 "cells": [
  {
   "cell_type": "code",
   "execution_count": 1,
   "metadata": {},
   "outputs": [],
   "source": [
    "import numpy as np\n",
    "import time\n",
    "from conv_nn import utils\n",
    "from conv_nn.module import Sequential\n",
    "from conv_nn.layer import Conv, batchnorm, ReLU, maxpool, Dropout, flatten, Linear\n",
    "from conv_nn.loss import MultiLogisticLoss\n",
    "from conv_nn.nn import ERMNeuralNetClassifier"
   ]
  },
  {
   "cell_type": "code",
   "execution_count": 2,
   "metadata": {},
   "outputs": [
    {
     "name": "stdout",
     "output_type": "stream",
     "text": [
      "Running main.py\n"
     ]
    }
   ],
   "source": [
    "print(\"Running main.py\")\n",
    "train_data = np.load('fmnist_train.npy', allow_pickle=True).item()\n",
    "test_data = np.load('fmnist_test.npy', allow_pickle=True).item()\n",
    "\n",
    "X = train_data['data']\n",
    "y = train_data['labels']\n",
    "X_test = test_data['data']\n",
    "\n",
    "# Preprocessing X\n",
    "X = X[..., np.newaxis] # add channel dimension\n",
    "if X.max() > 1: X = X / 255.\n",
    "\n",
    "X_test = X_test[..., np.newaxis] # add channel dimension\n",
    "if X_test.max() > 1: X_test = X_test / 255.\n",
    "\n",
    "# Split into Xfm_train, yfm_train, Xfm_val, yfm_val\n",
    "Xfm_train, yfm_train, Xfm_val, yfm_val = utils.create_split(X, y, 0.8)\n",
    "\n",
    "# Create model\n",
    "model = Sequential([\n",
    "    Conv(1, 32, 4, 2, 1), # 14 x 14 x 32\n",
    "    ReLU(), \n",
    "    batchnorm(32), \n",
    "    Conv(32, 64, 4, 2, 2), # 8 x 8 x 64\n",
    "    ReLU(),\n",
    "    batchnorm(64),\n",
    "    Conv(64, 128, 3, 1, 1), # 8 x 8 x 128\n",
    "    maxpool(2, 2), # 4 x 4 x 128\n",
    "    ReLU(),\n",
    "    batchnorm(128),\n",
    "    flatten(),\n",
    "    Linear(4*4*128, 256),\n",
    "    Dropout(0.5),\n",
    "    Linear(256, 10)\n",
    "])\n",
    "loss = MultiLogisticLoss(k=10)\n",
    "cnn_clf = ERMNeuralNetClassifier(model, loss)\n",
    "sgd_kwargs = {\n",
    "    'batch_size': 128,\n",
    "    'n_epochs': 1,\n",
    "    'eta': 0.01,\n",
    "    'verbose': True, # Enable printing INSIDE SGD\n",
    "    'verbose_epoch_interval': 1,\n",
    "}"
   ]
  },
  {
   "cell_type": "code",
   "execution_count": 3,
   "metadata": {},
   "outputs": [],
   "source": [
    "model.train_mode()\n",
    "model.forward(Xfm_train[:1000])\n",
    "res = model._output \n",
    "loss.forward(res, yfm_train[:1000])\n",
    "loss.backward()"
   ]
  },
  {
   "cell_type": "code",
   "execution_count": 7,
   "metadata": {},
   "outputs": [],
   "source": [
    "model.backward(loss._grad_input)"
   ]
  }
 ],
 "metadata": {
  "kernelspec": {
   "display_name": "ml",
   "language": "python",
   "name": "python3"
  },
  "language_info": {
   "codemirror_mode": {
    "name": "ipython",
    "version": 3
   },
   "file_extension": ".py",
   "mimetype": "text/x-python",
   "name": "python",
   "nbconvert_exporter": "python",
   "pygments_lexer": "ipython3",
   "version": "3.13.1"
  }
 },
 "nbformat": 4,
 "nbformat_minor": 2
}
