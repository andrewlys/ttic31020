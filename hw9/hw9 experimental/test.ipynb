{
 "cells": [
  {
   "cell_type": "code",
   "execution_count": 1,
   "metadata": {},
   "outputs": [],
   "source": [
    "import numpy as np\n",
    "import time\n",
    "from conv_nn import utils\n",
    "from conv_nn.module import Sequential\n",
    "from conv_nn.layer import Conv, batchnorm, ReLU, maxpool, Dropout, flatten, Linear\n",
    "from conv_nn.loss import MultiLogisticLoss\n",
    "from conv_nn.nn import ERMNeuralNetClassifier"
   ]
  },
  {
   "cell_type": "code",
   "execution_count": 2,
   "metadata": {},
   "outputs": [
    {
     "name": "stdout",
     "output_type": "stream",
     "text": [
      "Running main.py\n"
     ]
    }
   ],
   "source": [
    "print(\"Running main.py\")\n",
    "train_data = np.load('fmnist_train.npy', allow_pickle=True).item()\n",
    "test_data = np.load('fmnist_test.npy', allow_pickle=True).item()\n",
    "\n",
    "X = train_data['data']\n",
    "y = train_data['labels']\n",
    "X_test = test_data['data']\n",
    "\n",
    "# Preprocessing X\n",
    "X = X[..., np.newaxis] # add channel dimension\n",
    "if X.max() > 1: X = X / 255.\n",
    "\n",
    "X_test = X_test[..., np.newaxis] # add channel dimension\n",
    "if X_test.max() > 1: X_test = X_test / 255.\n",
    "\n",
    "# Split into Xfm_train, yfm_train, Xfm_val, yfm_val\n",
    "Xfm_train, yfm_train, Xfm_val, yfm_val = utils.create_split(X, y, 0.8)\n",
    "\n",
    "# Create model\n",
    "model = Sequential([\n",
    "    Conv(1, 32, 4, 2, 1), # 14 x 14 x 32\n",
    "    ReLU(), \n",
    "    batchnorm(32), \n",
    "    Conv(32, 64, 4, 2, 2), # 8 x 8 x 64\n",
    "    ReLU(),\n",
    "    batchnorm(64),\n",
    "    Conv(64, 128, 3, 1, 1), # 8 x 8 x 128\n",
    "    maxpool(2, 2), # 4 x 4 x 128\n",
    "    ReLU(),\n",
    "    batchnorm(128),\n",
    "    flatten(),\n",
    "    Linear(4*4*128, 256),\n",
    "    Dropout(0.5),\n",
    "    Linear(256, 10)\n",
    "])\n",
    "loss = MultiLogisticLoss(k=10)\n",
    "cnn_clf = ERMNeuralNetClassifier(model, loss)\n",
    "sgd_kwargs = {\n",
    "    'batch_size': 64,\n",
    "    'n_epochs': 2,\n",
    "    'eta': 0.01,\n",
    "    'verbose': True, # Enable printing INSIDE SGD\n",
    "    'verbose_epoch_interval': 1,\n",
    "}"
   ]
  },
  {
   "cell_type": "code",
   "execution_count": 3,
   "metadata": {},
   "outputs": [
    {
     "name": "stdout",
     "output_type": "stream",
     "text": [
      "\n",
      "Training complete, train_obj: 3.7289121594670744\n",
      "Time taken to fit: 5.46673321723938\n"
     ]
    }
   ],
   "source": [
    "# Fit model\n",
    "t = time.time()\n",
    "cnn_clf.fit(Xfm_train[:100], yfm_train[:100], **sgd_kwargs)\n",
    "print(f'Time taken to fit: {time.time() - t}')"
   ]
  },
  {
   "cell_type": "code",
   "execution_count": 6,
   "metadata": {},
   "outputs": [
    {
     "name": "stdout",
     "output_type": "stream",
     "text": [
      "[ 0  1  2  3  4  5  6  7  8  9 10 11 12 13 14 15 16 17 18 19 20 21 22 23\n",
      " 24 25 26 27 28 29 30 31 32 33 34]\n",
      "[35 36 37 38 39 40 41 42 43 44 45 46 47 48 49 50 51 52 53 54 55 56 57 58\n",
      " 59 60 61 62 63 64 65 66 67 68 69]\n",
      "[70 71 72 73 74 75 76 77 78 79 80 81 82 83 84 85 86 87 88 89 90 91 92 93\n",
      " 94 95 96 97 98 99]\n"
     ]
    }
   ],
   "source": [
    "list = np.arange(0, 100)\n",
    "for i in range(-(100//-35)):\n",
    "    print(list[i*35:(i+1)*35])\n"
   ]
  },
  {
   "cell_type": "code",
   "execution_count": 5,
   "metadata": {},
   "outputs": [
    {
     "name": "stdout",
     "output_type": "stream",
     "text": [
      "Number of parameters: 653130\n"
     ]
    }
   ],
   "source": [
    "n_params = 0\n",
    "for param in model.get_params():\n",
    "    for p in param:\n",
    "        n_params += p.size\n",
    "print(f\"Number of parameters: {n_params}\")"
   ]
  },
  {
   "cell_type": "code",
   "execution_count": null,
   "metadata": {},
   "outputs": [],
   "source": [
    "# Evaluate model\n",
    "print(f\"Validation Error: {utils.empirical_err(yfm_val, cnn_clf.predict(Xfm_val))}\")\n",
    "y_test_preds = cnn_clf.predict(X_test)\n",
    "fname = 'fmnist_test_pred.csv'\n",
    "output = np.vstack((np.arange(y_test_preds.shape[0]), y_test_preds)).T\n",
    "np.savetxt(fname, output, fmt=\"%d\", delimiter=',', comments='', header='id,label')"
   ]
  }
 ],
 "metadata": {
  "kernelspec": {
   "display_name": "ml",
   "language": "python",
   "name": "python3"
  },
  "language_info": {
   "codemirror_mode": {
    "name": "ipython",
    "version": 3
   },
   "file_extension": ".py",
   "mimetype": "text/x-python",
   "name": "python",
   "nbconvert_exporter": "python",
   "pygments_lexer": "ipython3",
   "version": "3.13.1"
  }
 },
 "nbformat": 4,
 "nbformat_minor": 2
}
